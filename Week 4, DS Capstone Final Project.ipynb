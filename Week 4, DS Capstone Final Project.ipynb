{
    "cells": [
        {
            "cell_type": "markdown",
            "metadata": {
                "collapsed": true
            },
            "source": "# Lima, Per\u00fa: What places are more exposed to crime?"
        },
        {
            "cell_type": "markdown",
            "metadata": {},
            "source": "## IBM Applied Data Science Capstone, Final Project\n### David Rodrigo S\u00e1nchez Navarro"
        },
        {
            "cell_type": "markdown",
            "metadata": {},
            "source": "## Introduction/Business Problem"
        },
        {
            "cell_type": "markdown",
            "metadata": {},
            "source": "Lima is the capital of Per\u00fa. This city has a population of around 10 million inhabitants, which represents a third of the population of the entire country. Lima is divided into 2 main regions: Regi\u00f3n Lima and Regi\u00f3n Callao. In these last two there are 50 main districts that represent about 90% of the population in the capital and they're considered as just one region due to their geographical proximity. When referring to the capital of Lima, we are mainly addressing to those 50 districts which together are known as Lima Metropolitana. As it has a third of the population in the country, it's the city that has more active business. These are of all kinds and are distributed across all districts.\n\nHowever, Lima has a problem: crime. It is a city with lots of inequality and poverty, there are districts with income levels much more higher than others and these brings social problems; one of these being crime. As we do know which districts are more dangerous, **through the Foursquare location data we can recognize which venues are more exposed to these crime rates. Results may be useful for people looking forward to open a business. Furthermore, a georeferencing-based analysis becomes a useful tool for policy makers**."
        },
        {
            "cell_type": "markdown",
            "metadata": {},
            "source": "## Data"
        },
        {
            "cell_type": "markdown",
            "metadata": {},
            "source": "We will be using data from the 50 districts of Lima Metropolitana. These data includes their geographical coordinates as well as crime rates by district. We will be using the Foursquare API as well in order to get information of frequent venues by district. Since we have these two sources, we can match information of Lima's districts with information coming from Foursquare easily. Below I put links with the information to be used. \n\nPer\u00fa's location data:  \nhttp://www.geodir.co/recursos/ubigeo-inei-peru.html  \nLima Metropolinada, coordinates and crime rates:  \nhttps://raw.githubusercontent.com/DRodrigo96/Coursera_Capstone/master/DataBase/Lima_LocationDistritosCrime.csv"
        }
    ],
    "metadata": {
        "kernelspec": {
            "display_name": "Python 3.6",
            "language": "python",
            "name": "python3"
        },
        "language_info": {
            "codemirror_mode": {
                "name": "ipython",
                "version": 3
            },
            "file_extension": ".py",
            "mimetype": "text/x-python",
            "name": "python",
            "nbconvert_exporter": "python",
            "pygments_lexer": "ipython3",
            "version": "3.6.9"
        }
    },
    "nbformat": 4,
    "nbformat_minor": 1
}