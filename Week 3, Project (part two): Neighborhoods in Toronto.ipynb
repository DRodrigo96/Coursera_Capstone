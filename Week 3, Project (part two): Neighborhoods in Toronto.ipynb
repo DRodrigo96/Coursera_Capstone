{
    "cells": [
        {
            "cell_type": "markdown",
            "metadata": {
                "collapsed": true
            },
            "source": "# Segmenting and Clustering Neighborhoods in Toronto"
        },
        {
            "cell_type": "markdown",
            "metadata": {},
            "source": "### Second part: Adding geographical coordinates"
        },
        {
            "cell_type": "code",
            "execution_count": 10,
            "metadata": {},
            "outputs": [],
            "source": "# Web scraping (part one)\n\n#pip install lxml\n#pip install bs4\nimport pandas as pd\nimport numpy as np\nfrom bs4 import BeautifulSoup\nimport requests\nimport re\n\nwebsite_url = requests.get(\"https://en.wikipedia.org/wiki/List_of_postal_codes_of_Canada:_M\").text\nsoup = BeautifulSoup(website_url,'html.parser')\nMy_table = soup.find('table',{'class':'wikitable sortable'})\n\n# Columns from the Wikipedia table\ncol_name = My_table.findAll(\"th\")\ncolumnas = []\nfor x in col_name:\n    columnas.append(x.get_text())\ncolumnas = [x.strip() for x in columnas if str(x)]\n\n# Data from table\ndata = My_table.findAll(\"td\")\n\ninfo = []\nfor x in data:\n    info.append(x.get_text())\ninfo = [x.strip() for x in info if str(x)]\n\npostal_code = [info[x] for x in range(0,len(info),3)]\nborough = [info[x+1] for x in range(0,len(info)-1,3)]\nneighborhood = [info[x+2] for x in range(0,len(info)-2,3)]\n\n# Dataframe \ntemp_df = pd.DataFrame([postal_code, borough, neighborhood]).T\ntemp_df.columns = [\"PostalCode\",\"Borough\", \"Neighborhood\"]\n\ntemp_df = temp_df[temp_df[\"Borough\"] != \"Not assigned\"]\ntemp_df.reset_index(inplace = True, drop = True)\n\ntemp_df['Borough'] = temp_df['Borough'].replace('\\s+', ' ', regex = True)\nfor x in range(len(temp_df.index)):\n    if temp_df[\"Neighborhood\"][x] == \"\":\n        temp_df[\"Neighborhood\"][x] = temp_df[\"Borough\"][x]\n    else:\n        pass\n\ntemp_df['Neighborhood'] = temp_df['Neighborhood'].replace('\\s+', ' ', regex = True)\ntemp_df['Neighborhood'] = temp_df['Neighborhood'].str.replace(' /',',')\n\n# temp_df.head()\n# temp_df.shape"
        },
        {
            "cell_type": "code",
            "execution_count": 11,
            "metadata": {},
            "outputs": [],
            "source": "# Geographical coordinates (second part)\n\ncoordinate = pd.read_csv(\"https://cocl.us/Geospatial_data/Geospatial_Coordinates.csv\")\n\ntemp_df = temp_df.merge(\n    coordinate, \n    how = \"inner\", \n    left_on = \"PostalCode\", \n    right_on = \"Postal Code\",\n    suffixes=('_master', '_using')\n    )\n\ndf = temp_df.drop(labels = 'Postal Code', axis = 1)"
        },
        {
            "cell_type": "code",
            "execution_count": 12,
            "metadata": {},
            "outputs": [
                {
                    "data": {
                        "text/html": "<div>\n<style scoped>\n    .dataframe tbody tr th:only-of-type {\n        vertical-align: middle;\n    }\n\n    .dataframe tbody tr th {\n        vertical-align: top;\n    }\n\n    .dataframe thead th {\n        text-align: right;\n    }\n</style>\n<table border=\"1\" class=\"dataframe\">\n  <thead>\n    <tr style=\"text-align: right;\">\n      <th></th>\n      <th>PostalCode</th>\n      <th>Borough</th>\n      <th>Neighborhood</th>\n      <th>Latitude</th>\n      <th>Longitude</th>\n    </tr>\n  </thead>\n  <tbody>\n    <tr>\n      <th>0</th>\n      <td>M3A</td>\n      <td>North York</td>\n      <td>Parkwoods</td>\n      <td>43.753259</td>\n      <td>-79.329656</td>\n    </tr>\n    <tr>\n      <th>1</th>\n      <td>M4A</td>\n      <td>North York</td>\n      <td>Victoria Village</td>\n      <td>43.725882</td>\n      <td>-79.315572</td>\n    </tr>\n    <tr>\n      <th>2</th>\n      <td>M5A</td>\n      <td>Downtown Toronto</td>\n      <td>Regent Park, Harbourfront</td>\n      <td>43.654260</td>\n      <td>-79.360636</td>\n    </tr>\n    <tr>\n      <th>3</th>\n      <td>M6A</td>\n      <td>North York</td>\n      <td>Lawrence Manor, Lawrence Heights</td>\n      <td>43.718518</td>\n      <td>-79.464763</td>\n    </tr>\n    <tr>\n      <th>4</th>\n      <td>M7A</td>\n      <td>Downtown Toronto</td>\n      <td>Queen's Park, Ontario Provincial Government</td>\n      <td>43.662301</td>\n      <td>-79.389494</td>\n    </tr>\n  </tbody>\n</table>\n</div>",
                        "text/plain": "  PostalCode           Borough                                 Neighborhood  \\\n0        M3A        North York                                    Parkwoods   \n1        M4A        North York                             Victoria Village   \n2        M5A  Downtown Toronto                    Regent Park, Harbourfront   \n3        M6A        North York             Lawrence Manor, Lawrence Heights   \n4        M7A  Downtown Toronto  Queen's Park, Ontario Provincial Government   \n\n    Latitude  Longitude  \n0  43.753259 -79.329656  \n1  43.725882 -79.315572  \n2  43.654260 -79.360636  \n3  43.718518 -79.464763  \n4  43.662301 -79.389494  "
                    },
                    "execution_count": 12,
                    "metadata": {},
                    "output_type": "execute_result"
                }
            ],
            "source": "df.head()"
        },
        {
            "cell_type": "code",
            "execution_count": null,
            "metadata": {},
            "outputs": [],
            "source": ""
        }
    ],
    "metadata": {
        "kernelspec": {
            "display_name": "Python 3.6",
            "language": "python",
            "name": "python3"
        },
        "language_info": {
            "codemirror_mode": {
                "name": "ipython",
                "version": 3
            },
            "file_extension": ".py",
            "mimetype": "text/x-python",
            "name": "python",
            "nbconvert_exporter": "python",
            "pygments_lexer": "ipython3",
            "version": "3.6.9"
        }
    },
    "nbformat": 4,
    "nbformat_minor": 1
}